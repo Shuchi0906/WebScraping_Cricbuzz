{
 "cells": [
  {
   "cell_type": "code",
   "execution_count": 1,
   "id": "cd973d58-a53c-4d35-82e5-fb183890cc86",
   "metadata": {},
   "outputs": [
    {
     "name": "stdout",
     "output_type": "stream",
     "text": [
      "✅ Data saved to 'cricbuzz_matches_enhanced.csv'\n"
     ]
    }
   ],
   "source": [
    "from bs4 import BeautifulSoup\n",
    "import requests\n",
    "import pandas as pd\n",
    "\n",
    "# URL of the Cricbuzz page with upcoming international cricket matches\n",
    "URL = \"https://www.cricbuzz.com/cricket-schedule/upcoming-series/international\"\n",
    "\n",
    "# Setting a User-Agent to avoid request being blocked\n",
    "HEADERS = {\"User-Agent\": 'Mozilla/5.0 (Windows NT 10.0; Win64; x64) AppleWebKit/537.36 (KHTML, like Gecko) Chrome/94.0.4606.81 Safari/537.36'}\n",
    "\n",
    "# Fetch the page content with proper error handling\n",
    "try:\n",
    "    response = requests.get(URL, headers=HEADERS)\n",
    "    response.raise_for_status()  # Will raise an exception for a failed request\n",
    "    soup = BeautifulSoup(response.text, \"lxml\")\n",
    "except requests.exceptions.RequestException as e:\n",
    "    print(f\"Error fetching the page: {e}\")\n",
    "    exit()\n",
    "\n",
    "# Find the sections containing dates (e.g., \"Wed, Jan 29 2025\")\n",
    "match_days = soup.find_all(\"div\", class_=\"cb-lv-grn-strip text-bold\")\n",
    "\n",
    "# Find the sections containing matches (teams and details)\n",
    "matches = soup.find_all(\"div\", class_=\"cb-ovr-flo cb-col-50 cb-col cb-mtchs-dy-vnu cb-adjst-lst\")\n",
    "\n",
    "# Find the venues for the matches\n",
    "venues = soup.find_all(\"div\", class_=\"cb-font-12 text-gray cb-ovr-flo\")\n",
    "\n",
    "# List to store match data\n",
    "match_data = []\n",
    "\n",
    "# Loop over match days, match details, and venues\n",
    "for i in range(len(match_days)):\n",
    "    try:\n",
    "        # Extract match name (teams playing)\n",
    "        match_name = matches[i].find(\"a\").text.strip() if matches[i].find(\"a\") else \"Unknown Match\"\n",
    "        \n",
    "        # Extract match date\n",
    "        match_date = match_days[i].text.strip() if match_days[i] else \"Unknown Date\"\n",
    "        \n",
    "        # Extract venue (location)\n",
    "        venue = venues[i].text.strip() if i < len(venues) and venues[i] else \"Unknown Venue\"\n",
    "        \n",
    "        # Append the data to match_data list\n",
    "        match_data.append([match_name, match_date, venue])\n",
    "    \n",
    "    except IndexError:\n",
    "        print(f\"Skipping match at index {i} due to missing data\")\n",
    "        continue  # If any data is missing, skip that match\n",
    "\n",
    "# Convert the match data into a DataFrame\n",
    "df = pd.DataFrame(match_data, columns=[\"Match Name\", \"Date\", \"Venue\"])\n",
    "\n",
    "# Save the DataFrame to a CSV file\n",
    "df.to_csv(\"cricbuzz_matches_enhanced.csv\", index=False)\n",
    "\n",
    "print(\"✅ Data saved to 'cricbuzz_matches_enhanced.csv'\")\n"
   ]
  },
  {
   "cell_type": "code",
   "execution_count": null,
   "id": "fb2b48d0-d9fc-474d-a541-6cb800349b97",
   "metadata": {},
   "outputs": [],
   "source": []
  }
 ],
 "metadata": {
  "kernelspec": {
   "display_name": "Python 3",
   "language": "python",
   "name": "python3"
  },
  "language_info": {
   "codemirror_mode": {
    "name": "ipython",
    "version": 3
   },
   "file_extension": ".py",
   "mimetype": "text/x-python",
   "name": "python",
   "nbconvert_exporter": "python",
   "pygments_lexer": "ipython3",
   "version": "3.8.10"
  }
 },
 "nbformat": 4,
 "nbformat_minor": 5
}
